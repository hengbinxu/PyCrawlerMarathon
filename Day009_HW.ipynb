{
 "cells": [
  {
   "cell_type": "markdown",
   "metadata": {},
   "source": [
    "# 作業\n",
    "\n",
    "以正確的副檔名下載網頁中的圖片\n",
    "範例網頁:https://www.ptt.cc/bbs/Beauty/M.1556291059.A.75A.html\n",
    "\n",
    "Note：因為 PTT 會詢問「是否滿 18 歲」，這邊可以用 cookies 繞過\n",
    "\n",
    "`requests.get(URL, cookies={'over18': '1'}`\n"
   ]
  },
  {
   "cell_type": "code",
   "execution_count": null,
   "metadata": {},
   "outputs": [],
   "source": [
    "import requests\n",
    "import os\n",
    "\n",
    "from bs4 import BeautifulSoup\n",
    "from PIL import Image"
   ]
  },
  {
   "cell_type": "code",
   "execution_count": 2,
   "metadata": {},
   "outputs": [],
   "source": [
    "url = 'https://www.ptt.cc/bbs/Beauty/M.1556291059.A.75A.html'\n",
    "resp = requests.get(url, cookies={'over18': '1'})\n",
    "soup = BeautifulSoup(resp.text)"
   ]
  },
  {
   "cell_type": "code",
   "execution_count": 3,
   "metadata": {},
   "outputs": [
    {
     "data": {
      "text/plain": [
       "[<a href=\"https://imgur.com/Cgb5oo1\" rel=\"nofollow\" target=\"_blank\">https://imgur.com/Cgb5oo1</a>,\n",
       " <a href=\"https://imgur.com/MgjHY4f\" rel=\"nofollow\" target=\"_blank\">https://imgur.com/MgjHY4f</a>,\n",
       " <a href=\"https://imgur.com/yeoRtAs\" rel=\"nofollow\" target=\"_blank\">https://imgur.com/yeoRtAs</a>,\n",
       " <a href=\"https://imgur.com/wsauNEW\" rel=\"nofollow\" target=\"_blank\">https://imgur.com/wsauNEW</a>,\n",
       " <a href=\"https://imgur.com/IjiETcs\" rel=\"nofollow\" target=\"_blank\">https://imgur.com/IjiETcs</a>,\n",
       " <a href=\"https://www.ptt.cc/bbs/Beauty/M.1556291059.A.75A.html\" rel=\"nofollow\" target=\"_blank\">https://www.ptt.cc/bbs/Beauty/M.1556291059.A.75A.html</a>]"
      ]
     },
     "execution_count": 3,
     "metadata": {},
     "output_type": "execute_result"
    }
   ],
   "source": [
    "# Use find to get img tags.\n",
    "s = soup.find(name='div', attrs={'id': 'main-content'})\n",
    "s.find_all('a', attrs={'target': '_blank'})"
   ]
  },
  {
   "cell_type": "code",
   "execution_count": 4,
   "metadata": {},
   "outputs": [],
   "source": [
    "def download_img(url, save_path=None):\n",
    "    if save_path is None:\n",
    "        current_path = os.getcwd()\n",
    "        file_name = os.path.split(url)[-1]\n",
    "        save_path = os.path.join(current_path, file_name)\n",
    "        \n",
    "    with requests.get(url, stream=True) as response:\n",
    "        with open(save_path, 'wb') as wf:\n",
    "            for chunk in response.iter_content(chunk_size=8192):\n",
    "                if chunk:\n",
    "                    wf.write(chunk)\n",
    "            print('Successfully download url: {} to {}.'.format(url, save_path))"
   ]
  },
  {
   "cell_type": "code",
   "execution_count": 5,
   "metadata": {},
   "outputs": [
    {
     "name": "stdout",
     "output_type": "stream",
     "text": [
      "Successfully download url: https://i.imgur.com/Cgb5oo1.jpeg to ./downloads/Cgb5oo1.jpeg.\n",
      "Successfully download url: https://i.imgur.com/MgjHY4f.jpeg to ./downloads/MgjHY4f.jpeg.\n",
      "Successfully download url: https://i.imgur.com/yeoRtAs.jpeg to ./downloads/yeoRtAs.jpeg.\n",
      "Successfully download url: https://i.imgur.com/wsauNEW.jpeg to ./downloads/wsauNEW.jpeg.\n",
      "Successfully download url: https://i.imgur.com/IjiETcs.jpeg to ./downloads/IjiETcs.jpeg.\n"
     ]
    }
   ],
   "source": [
    "# 決定要儲存的資料夾\n",
    "output_dir = './downloads'\n",
    "\n",
    "# 假如資料夾不存在就新增一個資料夾\n",
    "if not os.path.exists(output_dir):\n",
    "    os.makedirs(output_dir)\n",
    "\n",
    "url_template = \"https://i.imgur.com/{}.jpeg\"\n",
    "    \n",
    "# 定位所有圖片的 tag\n",
    "image_tags = soup.select('a[target=_blank]')\n",
    "for img_tag in image_tags:\n",
    "    # 取得所有圖片在第三方服務的 id\n",
    "    img_url = img_tag.attrs['href']\n",
    "    if \"imgur\" not in img_url:\n",
    "        continue\n",
    "    # 組合圖片而非網站的網址\n",
    "    img_id = os.path.split(img_url)[-1]\n",
    "    url = url_template.format(img_id)\n",
    "    # 對圖片送出請求\n",
    "    save_path = os.path.join(output_dir, img_id + \".jpeg\")\n",
    "    download_img(url, save_path)"
   ]
  },
  {
   "cell_type": "code",
   "execution_count": null,
   "metadata": {},
   "outputs": [],
   "source": []
  },
  {
   "cell_type": "code",
   "execution_count": null,
   "metadata": {},
   "outputs": [],
   "source": []
  }
 ],
 "metadata": {
  "kernelspec": {
   "display_name": "Python 3",
   "language": "python",
   "name": "python3"
  },
  "language_info": {
   "codemirror_mode": {
    "name": "ipython",
    "version": 3
   },
   "file_extension": ".py",
   "mimetype": "text/x-python",
   "name": "python",
   "nbconvert_exporter": "python",
   "pygments_lexer": "ipython3",
   "version": "3.7.6"
  }
 },
 "nbformat": 4,
 "nbformat_minor": 4
}
