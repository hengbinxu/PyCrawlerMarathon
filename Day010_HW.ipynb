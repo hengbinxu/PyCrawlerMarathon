{
 "cells": [
  {
   "cell_type": "markdown",
   "metadata": {},
   "source": [
    "# 其他工具：Grab、PyQuery\n",
    "\n",
    "\n",
    "* 利用 Grab 套件的存取 HTML 資源\n",
    "* 利用 PyQuery 套件的解析 HTML 格式\n"
   ]
  },
  {
   "cell_type": "markdown",
   "metadata": {},
   "source": [
    "## 作業目標\n",
    "\n",
    "將之前用 requests + beatifulsoup 實作的方式，改寫成 grab + pyquery，並且比較有哪些地方不同。\n",
    "\n",
    "\n",
    "\n"
   ]
  },
  {
   "cell_type": "markdown",
   "metadata": {},
   "source": [
    "## requests + BeautifulSoup\n"
   ]
  },
  {
   "cell_type": "code",
   "execution_count": 1,
   "metadata": {},
   "outputs": [],
   "source": [
    "import os, requests\n",
    "from bs4 import BeautifulSoup\n",
    "\n",
    "url = \"https://www.ptt.cc/bbs/Beauty/index.html\"\n",
    "cookies = {\"over18\": '1'}\n",
    "\n",
    "res = requests.get(url, cookies=cookies)\n",
    "doc = BeautifulSoup(res.text, 'lxml')"
   ]
  },
  {
   "cell_type": "code",
   "execution_count": 2,
   "metadata": {},
   "outputs": [
    {
     "name": "stdout",
     "output_type": "stream",
     "text": [
      "[正妹] 以色列 https://www.ptt.cc/bbs/Beauty/M.1613843705.A.574.html\n",
      "[正妹] 俄羅斯 https://www.ptt.cc/bbs/Beauty/M.1613845247.A.BE3.html\n",
      "[正妹] 18年前的寫真集 https://www.ptt.cc/bbs/Beauty/M.1613845939.A.38B.html\n",
      "[正妹] 可以嗎 https://www.ptt.cc/bbs/Beauty/M.1613870130.A.72D.html\n",
      "[正妹] 越南 https://www.ptt.cc/bbs/Beauty/M.1613872697.A.378.html\n",
      "[正妹] 妮妮姐姐 https://www.ptt.cc/bbs/Beauty/M.1613879650.A.315.html\n",
      "[正妹] 大尺碼｜肉特(A50) https://www.ptt.cc/bbs/Beauty/M.1613880472.A.835.html\n",
      "[正妹] 霧雨臻姬 https://www.ptt.cc/bbs/Beauty/M.1613883711.A.1D9.html\n",
      "[正妹] 麻美由真 (麻美ゆま) https://www.ptt.cc/bbs/Beauty/M.1613888391.A.C1E.html\n",
      "[正妹] 溝 https://www.ptt.cc/bbs/Beauty/M.1613892204.A.C18.html\n",
      "[正妹] 大尺碼｜肉特(370) https://www.ptt.cc/bbs/Beauty/M.1613895905.A.4CD.html\n",
      "[正妹] 公鹿老闆女兒 https://www.ptt.cc/bbs/Beauty/M.1613904771.A.D9B.html\n",
      "[正妹] 吳怡霈 https://www.ptt.cc/bbs/Beauty/M.1613905136.A.39B.html\n",
      "[正妹] 文史工作者那有這麼漂亮的？ https://www.ptt.cc/bbs/Beauty/M.1613909953.A.2B7.html\n",
      "[正妹] 佐佐木希(佐々木希) https://www.ptt.cc/bbs/Beauty/M.1613915763.A.883.html\n"
     ]
    }
   ],
   "source": [
    "url_prefix = \"https://www.ptt.cc\"\n",
    "\n",
    "all_articles_info = doc.select(\"div[class=r-ent]\")\n",
    "\n",
    "for article_info in all_articles_info:\n",
    "    info_tag = article_info.select_one(\"div[class='title'] a\")\n",
    "    if info_tag:\n",
    "        title = info_tag.text\n",
    "        if title == '[公告] 不願上表特 ＆ 優文推薦 ＆ 檢舉建議專區':\n",
    "            break\n",
    "        url_suffix = info_tag.attrs['href']\n",
    "        article_url = \"\".join([url_prefix, url_suffix])\n",
    "        print(title, article_url)"
   ]
  },
  {
   "cell_type": "markdown",
   "metadata": {},
   "source": [
    "## Grab + PyQuery"
   ]
  },
  {
   "cell_type": "code",
   "execution_count": 3,
   "metadata": {},
   "outputs": [
    {
     "data": {
      "text/plain": [
       "'\\nYour Code\\n'"
      ]
     },
     "execution_count": 3,
     "metadata": {},
     "output_type": "execute_result"
    }
   ],
   "source": [
    "'''\n",
    "Your Code\n",
    "'''"
   ]
  },
  {
   "cell_type": "code",
   "execution_count": null,
   "metadata": {},
   "outputs": [],
   "source": []
  }
 ],
 "metadata": {
  "kernelspec": {
   "display_name": "Python 3",
   "language": "python",
   "name": "python3"
  },
  "language_info": {
   "codemirror_mode": {
    "name": "ipython",
    "version": 3
   },
   "file_extension": ".py",
   "mimetype": "text/x-python",
   "name": "python",
   "nbconvert_exporter": "python",
   "pygments_lexer": "ipython3",
   "version": "3.7.6"
  }
 },
 "nbformat": 4,
 "nbformat_minor": 4
}
