{
 "cells": [
  {
   "cell_type": "markdown",
   "metadata": {},
   "source": [
    "# API 資料串接 - 以 Dcard API 實作範例\n",
    "\n",
    "* 了解 Dcard API 使用方式與回傳內容\n",
    "* 撰寫程式存取 API 且解析 JSON 格式資料\n"
   ]
  },
  {
   "cell_type": "markdown",
   "metadata": {},
   "source": [
    "## 作業目標\n",
    "\n",
    "* 請利用 API: https://www.dcard.tw/_api/forums/pet/posts?popular=true 回答下列問題：\n",
    "\n",
    "1. 這個 API 一次會回傳幾筆資料？每一筆資料包含哪些欄位？\n",
    "2. 取出每一筆資料的「標題」、「貼文時間」、「留言人數」、「按讚人數」\n",
    "3. 計算熱門/非熱門文章的「平均留言人數」與「平均按讚人數」"
   ]
  },
  {
   "cell_type": "code",
   "execution_count": 1,
   "metadata": {},
   "outputs": [
    {
     "name": "stdout",
     "output_type": "stream",
     "text": [
      "Response 30 data.\n",
      "The data includes below fields: ['id', 'title', 'excerpt', 'anonymousSchool', 'anonymousDepartment', 'pinned', 'forumId', 'replyId', 'createdAt', 'updatedAt', 'commentCount', 'likeCount', 'withNickname', 'tags', 'topics', 'meta', 'forumName', 'forumAlias', 'nsfw', 'gender', 'school', 'department', 'replyTitle', 'mediaMeta', 'reactions', 'hidden', 'customStyle', 'isSuspiciousAccount', 'isModerator', 'layout', 'spoilerAlert', 'withImages', 'withVideos', 'media', 'reportReasonText', 'excerptComments', 'postAvatar', 'verifiedBadge']\n"
     ]
    }
   ],
   "source": [
    "# 1. 這個 API 一次會回傳幾筆資料？每一筆資料包含哪些欄位？\n",
    "import requests\n",
    "\n",
    "url = \"https://www.dcard.tw/_api/forums/pet/posts?popular=true\"\n",
    "res = requests.get(url)\n",
    "all_data = res.json()\n",
    "print(f\"Response {len(all_data)} data.\")\n",
    "print(f\"The data includes below fields: {list(all_data[0].keys())}\")"
   ]
  },
  {
   "cell_type": "code",
   "execution_count": 2,
   "metadata": {},
   "outputs": [
    {
     "name": "stdout",
     "output_type": "stream",
     "text": [
      "[{'title': '影片 貓自X被發現的反應', 'create_time': '2021-02-20T14:43:00.610Z', 'comment_count': 46, 'like_count': 1063}, {'title': '被發現爸爸是橘貓的冒牌美短', 'create_time': '2021-02-20T16:01:06.561Z', 'comment_count': 24, 'like_count': 861}, {'title': '晚安，還沒睡吧？我要進來了~', 'create_time': '2021-02-20T00:48:35.346Z', 'comment_count': 14, 'like_count': 294}, {'title': '貓咪的眼睛上鬍鬚打結🤣', 'create_time': '2021-02-20T19:14:49.048Z', 'comment_count': 8, 'like_count': 150}, {'title': '療癒的布偶奶貓', 'create_time': '2021-02-20T10:28:10.838Z', 'comment_count': 9, 'like_count': 147}, {'title': '想問問各位，我家貓外八正常嗎？', 'create_time': '2021-02-20T11:41:48.304Z', 'comment_count': 8, 'like_count': 126}, {'title': '貓界的瘋子', 'create_time': '2021-02-20T18:38:57.147Z', 'comment_count': 7, 'like_count': 65}, {'title': '帶放大片的差別', 'create_time': '2021-02-20T09:54:18.151Z', 'comment_count': 4, 'like_count': 65}, {'title': '我只是想曬我家可愛的小橘貓', 'create_time': '2021-02-20T07:38:54.256Z', 'comment_count': 6, 'like_count': 64}, {'title': '（影片）撕肉的速度趕不上被貓咪吃掉的速度', 'create_time': '2021-02-20T09:05:03.203Z', 'comment_count': 6, 'like_count': 49}, {'title': '（圖）世界上最遙遠的距離', 'create_time': '2021-02-20T07:45:22.937Z', 'comment_count': 0, 'like_count': 20}, {'title': '#貓圖 #橘貓🍊為你鋪床你偏不睡', 'create_time': '2021-02-20T18:37:50.044Z', 'comment_count': 1, 'like_count': 18}, {'title': '家裡的狗模仿貓', 'create_time': '2021-02-20T11:10:54.085Z', 'comment_count': 2, 'like_count': 18}, {'title': '保育穿山甲你可以這樣做 「要吃不會吃自己的指甲？」', 'create_time': '2021-02-20T06:43:44.674Z', 'comment_count': 0, 'like_count': 18}, {'title': '貓貓的背後禿一小塊', 'create_time': '2021-02-20T00:32:52.386Z', 'comment_count': 1, 'like_count': 18}, {'title': '#詢問 倉鼠靜音滾輪選擇（內有選手）', 'create_time': '2021-02-20T18:36:12.148Z', 'comment_count': 4, 'like_count': 17}, {'title': '烏龜也是可以很可愛的🥰', 'create_time': '2021-02-20T13:44:07.916Z', 'comment_count': 0, 'like_count': 17}, {'title': '三重戴著紅項圈的黑貓協尋', 'create_time': '2021-02-20T04:10:56.925Z', 'comment_count': 5, 'like_count': 17}, {'title': '養蝦新手', 'create_time': '2021-02-21T02:33:20.134Z', 'comment_count': 0, 'like_count': 16}, {'title': '寵物（貓）主食罐推薦', 'create_time': '2021-02-20T13:21:05.336Z', 'comment_count': 1, 'like_count': 16}, {'title': '很多乾哥乾姐的貓生', 'create_time': '2021-02-20T03:06:54.127Z', 'comment_count': 4, 'like_count': 15}, {'title': '拜託真的不要鬧', 'create_time': '2021-02-21T04:31:28.113Z', 'comment_count': 2, 'like_count': 14}, {'title': '上一篇按到', 'create_time': '2021-02-20T07:17:03.138Z', 'comment_count': 4, 'like_count': 14}, {'title': '史上最愛做鬼臉的基', 'create_time': '2021-02-20T01:55:14.678Z', 'comment_count': 0, 'like_count': 14}, {'title': '曬一下我家的貓貓', 'create_time': '2021-02-21T06:58:08.480Z', 'comment_count': 1, 'like_count': 13}, {'title': '這是毛還沒長齊的小太陽鸚鵡嗎？', 'create_time': '2021-02-21T02:12:43.591Z', 'comment_count': 7, 'like_count': 13}, {'title': '#問［水族］白色團絮是什麼？', 'create_time': '2021-02-20T16:08:05.200Z', 'comment_count': 2, 'like_count': 12}, {'title': '今天是世界穿山甲日!', 'create_time': '2021-02-20T06:27:39.971Z', 'comment_count': 0, 'like_count': 12}, {'title': '貓脖子有傷口', 'create_time': '2021-02-21T06:08:14.755Z', 'comment_count': 0, 'like_count': 11}, {'title': '協尋貓咪：橘色米克斯', 'create_time': '2021-02-21T05:49:07.754Z', 'comment_count': 2, 'like_count': 11}]\n"
     ]
    }
   ],
   "source": [
    "# 2. 取出每一筆資料的「標題」、「貼文時間」、「留言人數」、「按讚人數」\n",
    "\n",
    "def extract_info(data):\n",
    "    extract_field = {\n",
    "        \"title\": data['title'],\n",
    "        \"create_time\": data['createdAt'],\n",
    "        \"comment_count\": data['commentCount'],\n",
    "        \"like_count\": data['likeCount']\n",
    "    }\n",
    "    return extract_field\n",
    "\n",
    "print(list(map(extract_info, all_data)))"
   ]
  },
  {
   "cell_type": "code",
   "execution_count": 3,
   "metadata": {},
   "outputs": [],
   "source": [
    "# 3. 計算熱門/非熱門文章的「平均留言人數」與「平均按讚人數」\n",
    "\n",
    "def count_avg(all_data):\n",
    "    all_like_count, all_comment_count = 0, 0\n",
    "    for data in all_data:\n",
    "        all_comment_count += data['commentCount']\n",
    "        all_like_count += data['likeCount']\n",
    "    \n",
    "    avg_comment_count = round(all_comment_count/len(all_data), ndigits=1)\n",
    "    avg_like_count = round(all_like_count/len(all_data), ndigits=1)\n",
    "    avg_values = {\n",
    "        'avg_comment_count': avg_comment_count,\n",
    "        'avg_like_count': avg_like_count\n",
    "    }\n",
    "    return avg_values"
   ]
  },
  {
   "cell_type": "code",
   "execution_count": 4,
   "metadata": {},
   "outputs": [
    {
     "name": "stdout",
     "output_type": "stream",
     "text": [
      "----------------------------------------------------------------------------------------------------\n",
      "popular: true, avg_values: {'avg_comment_count': 5.6, 'avg_like_count': 108.5}\n",
      "----------------------------------------------------------------------------------------------------\n",
      "popular: false, avg_values: {'avg_comment_count': 3.8, 'avg_like_count': 78.4}\n"
     ]
    }
   ],
   "source": [
    "base_url = \"https://www.dcard.tw/_api/forums/pet/posts?popular={}\"\n",
    "popular_or_not = ['true', 'false']\n",
    "\n",
    "for t_or_f in popular_or_not:\n",
    "    url = base_url.format(t_or_f)\n",
    "    res = requests.get(url)\n",
    "    response_data = res.json()\n",
    "    avg_values = count_avg(response_data)\n",
    "    print('-' * 100)\n",
    "    print(f\"popular: {t_or_f}, avg_values: {avg_values}\")"
   ]
  },
  {
   "cell_type": "code",
   "execution_count": null,
   "metadata": {},
   "outputs": [],
   "source": []
  },
  {
   "cell_type": "code",
   "execution_count": null,
   "metadata": {},
   "outputs": [],
   "source": []
  }
 ],
 "metadata": {
  "kernelspec": {
   "display_name": "Python 3",
   "language": "python",
   "name": "python3"
  },
  "language_info": {
   "codemirror_mode": {
    "name": "ipython",
    "version": 3
   },
   "file_extension": ".py",
   "mimetype": "text/x-python",
   "name": "python",
   "nbconvert_exporter": "python",
   "pygments_lexer": "ipython3",
   "version": "3.7.6"
  }
 },
 "nbformat": 4,
 "nbformat_minor": 4
}
