{
 "cells": [
  {
   "cell_type": "markdown",
   "metadata": {},
   "source": [
    "# Python 下載XML檔案與解析\n",
    "\n",
    "\n",
    "* 了解 xml 檔案格式與內容\n",
    "* 能夠利用套件存取 xml 格式的檔案\n"
   ]
  },
  {
   "cell_type": "markdown",
   "metadata": {},
   "source": [
    "## 作業目標\n",
    "\n",
    "* 比較一下範例檔案中的「File I/O」與「xmltodict」讀出來的內容有什麼差異\n",
    "\n",
    "* 根據範例檔案的結果：\n",
    "    1. 請問高雄市有多少地區有溫度資料？\n",
    "    2. 請取出每一個地區所記錄的第一個時間點跟溫度\n",
    "    3. 請取出第一個地區所記錄的每一個時間點跟溫度"
   ]
  },
  {
   "cell_type": "markdown",
   "metadata": {},
   "source": [
    "### 比較一下範例檔案中的「File I/O」與「xmltodict」讀出來的內容有什麼差異\n"
   ]
  },
  {
   "cell_type": "markdown",
   "metadata": {},
   "source": [
    " - Different in its data type. file I/O is string and xmltodict is dictionary."
   ]
  },
  {
   "cell_type": "markdown",
   "metadata": {},
   "source": [
    "### 根據範例檔案的結果：\n",
    "\n",
    "1. 請問高雄市有多少地區有溫度資料？\n",
    "2. 請取出每一個地區所記錄的第一個時間點跟溫度\n",
    "3. 請取出第一個地區所記錄的每一個時間點跟溫度"
   ]
  },
  {
   "cell_type": "code",
   "execution_count": 1,
   "metadata": {},
   "outputs": [
    {
     "name": "stdout",
     "output_type": "stream",
     "text": [
      "<class 'str'>\n",
      "<class 'collections.OrderedDict'>\n"
     ]
    }
   ],
   "source": [
    "import xmltodict\n",
    "\n",
    "file_path = './Data/64_Week24_CH.xml'\n",
    "\n",
    "with open(file_path, 'r') as rf:\n",
    "    content = rf.read()\n",
    "    parse_result = xmltodict.parse(content)\n",
    "    print(type(content))\n",
    "    print(type(parse_result))"
   ]
  },
  {
   "cell_type": "code",
   "execution_count": 2,
   "metadata": {},
   "outputs": [
    {
     "name": "stdout",
     "output_type": "stream",
     "text": [
      "There are 38 of regions in Kaohsiung\n"
     ]
    }
   ],
   "source": [
    "# 1. 請問高雄市有多少地區有溫度資料？\n",
    "all_regions_data = parse_result['cwbopendata']['dataset']['locations']['location']\n",
    "print(f'There are {(len(all_regions_data))} of regions in Kaohsiung')"
   ]
  },
  {
   "cell_type": "code",
   "execution_count": 3,
   "metadata": {},
   "outputs": [
    {
     "name": "stdout",
     "output_type": "stream",
     "text": [
      "[{'region_name': '鹽埕區', 'start_time': '2019-06-28T12:00:00+08:00', 'value': '32', 'measure': '攝氏度'}, {'region_name': '鼓山區', 'start_time': '2019-06-28T12:00:00+08:00', 'value': '32', 'measure': '攝氏度'}, {'region_name': '左營區', 'start_time': '2019-06-28T12:00:00+08:00', 'value': '32', 'measure': '攝氏度'}, {'region_name': '楠梓區', 'start_time': '2019-06-28T12:00:00+08:00', 'value': '32', 'measure': '攝氏度'}, {'region_name': '三民區', 'start_time': '2019-06-28T12:00:00+08:00', 'value': '31', 'measure': '攝氏度'}, {'region_name': '新興區', 'start_time': '2019-06-28T12:00:00+08:00', 'value': '32', 'measure': '攝氏度'}, {'region_name': '前金區', 'start_time': '2019-06-28T12:00:00+08:00', 'value': '32', 'measure': '攝氏度'}, {'region_name': '苓雅區', 'start_time': '2019-06-28T12:00:00+08:00', 'value': '32', 'measure': '攝氏度'}, {'region_name': '前鎮區', 'start_time': '2019-06-28T12:00:00+08:00', 'value': '32', 'measure': '攝氏度'}, {'region_name': '旗津區', 'start_time': '2019-06-28T12:00:00+08:00', 'value': '31', 'measure': '攝氏度'}, {'region_name': '小港區', 'start_time': '2019-06-28T12:00:00+08:00', 'value': '32', 'measure': '攝氏度'}, {'region_name': '鳳山區', 'start_time': '2019-06-28T12:00:00+08:00', 'value': '32', 'measure': '攝氏度'}, {'region_name': '林園區', 'start_time': '2019-06-28T12:00:00+08:00', 'value': '32', 'measure': '攝氏度'}, {'region_name': '大寮區', 'start_time': '2019-06-28T12:00:00+08:00', 'value': '32', 'measure': '攝氏度'}, {'region_name': '大樹區', 'start_time': '2019-06-28T12:00:00+08:00', 'value': '32', 'measure': '攝氏度'}, {'region_name': '大社區', 'start_time': '2019-06-28T12:00:00+08:00', 'value': '32', 'measure': '攝氏度'}, {'region_name': '仁武區', 'start_time': '2019-06-28T12:00:00+08:00', 'value': '32', 'measure': '攝氏度'}, {'region_name': '鳥松區', 'start_time': '2019-06-28T12:00:00+08:00', 'value': '31', 'measure': '攝氏度'}, {'region_name': '岡山區', 'start_time': '2019-06-28T12:00:00+08:00', 'value': '32', 'measure': '攝氏度'}, {'region_name': '橋頭區', 'start_time': '2019-06-28T12:00:00+08:00', 'value': '32', 'measure': '攝氏度'}, {'region_name': '燕巢區', 'start_time': '2019-06-28T12:00:00+08:00', 'value': '32', 'measure': '攝氏度'}, {'region_name': '田寮區', 'start_time': '2019-06-28T12:00:00+08:00', 'value': '31', 'measure': '攝氏度'}, {'region_name': '阿蓮區', 'start_time': '2019-06-28T12:00:00+08:00', 'value': '31', 'measure': '攝氏度'}, {'region_name': '路竹區', 'start_time': '2019-06-28T12:00:00+08:00', 'value': '32', 'measure': '攝氏度'}, {'region_name': '湖內區', 'start_time': '2019-06-28T12:00:00+08:00', 'value': '31', 'measure': '攝氏度'}, {'region_name': '茄萣區', 'start_time': '2019-06-28T12:00:00+08:00', 'value': '31', 'measure': '攝氏度'}, {'region_name': '永安區', 'start_time': '2019-06-28T12:00:00+08:00', 'value': '31', 'measure': '攝氏度'}, {'region_name': '彌陀區', 'start_time': '2019-06-28T12:00:00+08:00', 'value': '31', 'measure': '攝氏度'}, {'region_name': '梓官區', 'start_time': '2019-06-28T12:00:00+08:00', 'value': '31', 'measure': '攝氏度'}, {'region_name': '旗山區', 'start_time': '2019-06-28T12:00:00+08:00', 'value': '31', 'measure': '攝氏度'}, {'region_name': '美濃區', 'start_time': '2019-06-28T12:00:00+08:00', 'value': '32', 'measure': '攝氏度'}, {'region_name': '六龜區', 'start_time': '2019-06-28T12:00:00+08:00', 'value': '30', 'measure': '攝氏度'}, {'region_name': '甲仙區', 'start_time': '2019-06-28T12:00:00+08:00', 'value': '29', 'measure': '攝氏度'}, {'region_name': '杉林區', 'start_time': '2019-06-28T12:00:00+08:00', 'value': '32', 'measure': '攝氏度'}, {'region_name': '內門區', 'start_time': '2019-06-28T12:00:00+08:00', 'value': '31', 'measure': '攝氏度'}, {'region_name': '茂林區', 'start_time': '2019-06-28T12:00:00+08:00', 'value': '30', 'measure': '攝氏度'}, {'region_name': '桃源區', 'start_time': '2019-06-28T12:00:00+08:00', 'value': '27', 'measure': '攝氏度'}, {'region_name': '那瑪夏區', 'start_time': '2019-06-28T12:00:00+08:00', 'value': '25', 'measure': '攝氏度'}]\n"
     ]
    }
   ],
   "source": [
    "# 2. 請取出每一個地區所記錄的第一個時間點跟溫度\n",
    "\n",
    "def extract_first_data(region_info):\n",
    "    region_name = region_info['locationName']\n",
    "    temperature_info = region_info['weatherElement'][0]['time'][0]\n",
    "    start_time = temperature_info['startTime']\n",
    "    value = temperature_info['elementValue']['value']\n",
    "    measure = temperature_info['elementValue']['measures']\n",
    "    extract_data = {\n",
    "        'region_name': region_name,\n",
    "        'start_time': start_time,\n",
    "        'value': value,\n",
    "        'measure': measure\n",
    "    }\n",
    "    return extract_data\n",
    "\n",
    "all_region_first_data = list(map(extract_first_data, all_regions_data))\n",
    "print(all_region_first_data)"
   ]
  },
  {
   "cell_type": "code",
   "execution_count": 4,
   "metadata": {},
   "outputs": [
    {
     "name": "stdout",
     "output_type": "stream",
     "text": [
      "鹽埕區 first record time : 2019-06-28T12:00:00+08:00, temperature: 32, measure: 攝氏度\n"
     ]
    }
   ],
   "source": [
    "# 3. 請取出第一個地區所記錄的每一個時間點跟溫度\n",
    "\n",
    "region_name = all_regions_data[0]['locationName']\n",
    "start_time = all_regions_data[0]['weatherElement'][0]['time'][0]['startTime']\n",
    "measures = all_regions_data[0]['weatherElement'][0]['time'][0]['elementValue']['measures']\n",
    "value = all_regions_data[0]['weatherElement'][0]['time'][0]['elementValue']['value']\n",
    "print(f'{region_name} first record time : {start_time}, temperature: {value}, measure: {measures}')"
   ]
  },
  {
   "cell_type": "code",
   "execution_count": null,
   "metadata": {},
   "outputs": [],
   "source": []
  },
  {
   "cell_type": "code",
   "execution_count": null,
   "metadata": {},
   "outputs": [],
   "source": []
  },
  {
   "cell_type": "code",
   "execution_count": null,
   "metadata": {},
   "outputs": [],
   "source": []
  }
 ],
 "metadata": {
  "kernelspec": {
   "display_name": "Python 3",
   "language": "python",
   "name": "python3"
  },
  "language_info": {
   "codemirror_mode": {
    "name": "ipython",
    "version": 3
   },
   "file_extension": ".py",
   "mimetype": "text/x-python",
   "name": "python",
   "nbconvert_exporter": "python",
   "pygments_lexer": "ipython3",
   "version": "3.7.6"
  }
 },
 "nbformat": 4,
 "nbformat_minor": 4
}
